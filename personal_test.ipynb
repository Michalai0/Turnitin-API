{
 "cells": [
  {
   "cell_type": "code",
   "execution_count": 19,
   "metadata": {},
   "outputs": [],
   "source": [
    "import requests\n",
    "from IPython.core.display import display, HTML\n",
    "from bs4 import BeautifulSoup\n",
    "from personal import *\n",
    "\n",
    "url = \"http://127.0.0.1:5000\"\n",
    "# url = \"https://turnitin-api.herokuapp.com\"\n",
    "\n",
    "\n",
    "s = requests.Session()"
   ]
  },
  {
   "cell_type": "code",
   "execution_count": 20,
   "metadata": {
    "tags": []
   },
   "outputs": [
    {
     "output_type": "stream",
     "name": "stdout",
     "text": "{'title': 'World Literature: Period 5', 'url': 'https://www.turnitin.com/s_class_portfolio.asp?r=29.1421237500028&svr=23&lang=en_us&aid=5245&cid=22703844'}\n"
    },
    {
     "output_type": "execute_result",
     "data": {
      "text/plain": "{'aid': '93021867',\n 'dates': {'due': '06/30/2020 23:59:00',\n  'post': '06/12/2020 00:00:00',\n  'start': '06/04/2020 15:33:00'},\n 'file': 'void',\n 'info': 'No additional instructions have been entered for this assignment. Late paper submissions are allowed for this assignment. Resubmissions are not allowed for this assignment. Similarity reports are available immediately after submission.',\n 'oid': 'void',\n 'submission': 't_submit.asp?r=3.18340456629862&svr=41&lang=en_us&aid=93021867',\n 'title': \"Kento's Test Assignment (for Kento only)\"}"
     },
     "metadata": {},
     "execution_count": 20
    }
   ],
   "source": [
    "login_result = s.post(url + \"/login\", json={\n",
    "    \"email\": USERNAME,\n",
    "    \"password\": PASSWORD\n",
    "})\n",
    "auth = login_result.json()\n",
    "\n",
    "classes_result = s.post(url + \"/classes\", json=auth)\n",
    "classes = classes_result.json()\n",
    "for c in classes:\n",
    "    if \"World Lit\" in c[\"title\"]:\n",
    "        world_lit = c\n",
    "print(world_lit)\n",
    "\n",
    "first_class_data = dict(auth, url=world_lit[\"url\"])\n",
    "assignments_result = s.post(url + \"/assignments\", json=first_class_data)\n",
    "assignments = assignments_result.json()\n",
    "assignments[-6]"
   ]
  },
  {
   "cell_type": "code",
   "execution_count": 16,
   "metadata": {},
   "outputs": [
    {
     "output_type": "execute_result",
     "data": {
      "text/plain": "29"
     },
     "metadata": {},
     "execution_count": 16
    }
   ],
   "source": [
    "len(assignments)"
   ]
  },
  {
   "cell_type": "code",
   "execution_count": 21,
   "metadata": {},
   "outputs": [
    {
     "output_type": "execute_result",
     "data": {
      "text/plain": "{'aid': '93021867',\n 'dates': {'due': '06/30/2020 23:59:00',\n  'post': '06/12/2020 00:00:00',\n  'start': '06/04/2020 15:33:00'},\n 'file': 'void',\n 'info': 'No additional instructions have been entered for this assignment. Late paper submissions are allowed for this assignment. Resubmissions are not allowed for this assignment. Similarity reports are available immediately after submission.',\n 'oid': 'void',\n 'submission': 't_submit.asp?r=3.18340456629862&svr=41&lang=en_us&aid=93021867',\n 'title': \"Kento's Test Assignment (for Kento only)\"}"
     },
     "metadata": {},
     "execution_count": 21
    }
   ],
   "source": [
    "assignments[-6]"
   ]
  },
  {
   "cell_type": "code",
   "execution_count": 44,
   "metadata": {},
   "outputs": [],
   "source": [
    "ass = assignments[-6]\n",
    "aid = ass[\"aid\"]\n",
    "cookies = auth[\"auth\"]\n",
    "author_first = \"Kento\"\n",
    "author_last = \"Nishi\"\n",
    "with open(\"../SampleSubmission.docx\", 'rb') as fin:\n",
    "    filebytes = fin.read()\n",
    "files = {\"SampleSubmission.docx\": open(\"../SampleSubmission.docx\", 'rb')}\n",
    "submission_title = \"Custom turnitin API\""
   ]
  },
  {
   "cell_type": "code",
   "execution_count": 45,
   "metadata": {},
   "outputs": [],
   "source": [
    "referer_url = \"https://www.turnitin.com/\" + ass[\"submission\"]\n",
    "submit_url = \"https://www.turnitin.com/t_submit.asp\"\n",
    "query = {\"aid\": aid, \"session-id\": cookies[\"session-id\"], \"lang\": \"en_us\"}\n",
    "form_data = dict(\n",
    "    async_request=1,\n",
    "    author_first=author_first, \n",
    "    author_last=author_last,\n",
    "    title=submission_title,\n",
    "    filename=\"SampleSubmission.docx\",\n",
    "    referer=referer_url,\n",
    "    userfile='',\n",
    "    db_doc='',\n",
    "    dropbox_filename='',\n",
    "    google_doc='',\n",
    "    google_auth_uri='',\n",
    "    token='',\n",
    "    submit_button=''\n",
    ")\n",
    "\n",
    "fd = \"\"\"\n",
    "------WebKitFormBoundaryTCvoHjgAffYzBXbI\n",
    "Content-Disposition: form-data; name=\"async_request\"\n",
    "\n",
    "0\n",
    "------WebKitFormBoundaryTCvoHjgAffYzBXbI\n",
    "Content-Disposition: form-data; name=\"author_first\"\n",
    "\n",
    "Kento\n",
    "------WebKitFormBoundaryTCvoHjgAffYzBXbI\n",
    "Content-Disposition: form-data; name=\"author_last\"\n",
    "\n",
    "Nishi\n",
    "------WebKitFormBoundaryTCvoHjgAffYzBXbI\n",
    "Content-Disposition: form-data; name=\"title\"\n",
    "\n",
    "TEST DOCUMENT 1\n",
    "------WebKitFormBoundaryTCvoHjgAffYzBXbI\n",
    "Content-Disposition: form-data; name=\"userfile\"; filename=\"SampleSubmission.docx\"\n",
    "Content-Type: application/vnd.openxmlformats-officedocument.wordprocessingml.document\n",
    "\n",
    "\n",
    "------WebKitFormBoundaryTCvoHjgAffYzBXbI\n",
    "Content-Disposition: form-data; name=\"db_doc\"\n",
    "\n",
    "\n",
    "------WebKitFormBoundaryTCvoHjgAffYzBXbI\n",
    "Content-Disposition: form-data; name=\"dropbox_filename\"\n",
    "\n",
    "\n",
    "------WebKitFormBoundaryTCvoHjgAffYzBXbI\n",
    "Content-Disposition: form-data; name=\"google_doc\"\n",
    "\n",
    "\n",
    "------WebKitFormBoundaryTCvoHjgAffYzBXbI\n",
    "Content-Disposition: form-data; name=\"google_auth_uri\"\n",
    "\n",
    "\n",
    "------WebKitFormBoundaryTCvoHjgAffYzBXbI\n",
    "Content-Disposition: form-data; name=\"token\"\n",
    "\n",
    "\n",
    "------WebKitFormBoundaryTCvoHjgAffYzBXbI\n",
    "Content-Disposition: form-data; name=\"submit_button\"\n",
    "\n",
    "\n",
    "------WebKitFormBoundaryTCvoHjgAffYzBXbI--\n",
    "\"\"\"\n",
    "\n",
    "\n",
    "alternate_fd = [\n",
    "    {\"name\": k, \"value\": v}\n",
    "    for k, v in form_data.items()\n",
    "]"
   ]
  },
  {
   "cell_type": "code",
   "execution_count": 24,
   "metadata": {},
   "outputs": [
    {
     "output_type": "execute_result",
     "data": {
      "text/plain": "[{'async_request': 1},\n {'author_first': 'Kento'},\n {'author_last': 'Nishi'},\n {'title': 'Custom turnitin API'},\n {'filename': 'SampleSubmission.docx'},\n {'referer': 'https://www.turnitin.com/t_submit.asp?r=3.18340456629862&svr=41&lang=en_us&aid=93021867'},\n {'db_doc': ''},\n {'dropbox_filename': ''},\n {'google_doc': ''},\n {'google_auth_uri': ''},\n {'token': ''},\n {'submit_button': ''}]"
     },
     "metadata": {},
     "execution_count": 24
    }
   ],
   "source": [
    "[{i: form_data[i]} for i in form_data if i != \"userfile\"]"
   ]
  },
  {
   "cell_type": "code",
   "execution_count": 47,
   "metadata": {},
   "outputs": [
    {
     "output_type": "error",
     "ename": "ValueError",
     "evalue": "Data must not be a string.",
     "traceback": [
      "\u001b[1;31m---------------------------------------------------------------------------\u001b[0m",
      "\u001b[1;31mValueError\u001b[0m                                Traceback (most recent call last)",
      "\u001b[1;32m<ipython-input-47-e0b95d95365f>\u001b[0m in \u001b[0;36m<module>\u001b[1;34m\u001b[0m\n\u001b[1;32m----> 1\u001b[1;33m \u001b[0mr\u001b[0m \u001b[1;33m=\u001b[0m \u001b[0ms\u001b[0m\u001b[1;33m.\u001b[0m\u001b[0mpost\u001b[0m\u001b[1;33m(\u001b[0m\u001b[0msubmit_url\u001b[0m\u001b[1;33m,\u001b[0m \u001b[0mfd\u001b[0m\u001b[1;33m,\u001b[0m \u001b[0mfiles\u001b[0m\u001b[1;33m=\u001b[0m\u001b[1;33m{\u001b[0m\u001b[1;34m\"userfile\"\u001b[0m\u001b[1;33m:\u001b[0m \u001b[0mfiles\u001b[0m\u001b[1;33m[\u001b[0m\u001b[1;34m\"SampleSubmission.docx\"\u001b[0m\u001b[1;33m]\u001b[0m\u001b[1;33m}\u001b[0m\u001b[1;33m,\u001b[0m \u001b[0mheaders\u001b[0m\u001b[1;33m=\u001b[0m\u001b[1;33m{\u001b[0m\u001b[1;34m\"accept\"\u001b[0m\u001b[1;33m:\u001b[0m \u001b[1;34m\"application/json\"\u001b[0m\u001b[1;33m}\u001b[0m\u001b[1;33m,\u001b[0m \u001b[0mparams\u001b[0m\u001b[1;33m=\u001b[0m\u001b[0mquery\u001b[0m\u001b[1;33m,\u001b[0m \u001b[0mcookies\u001b[0m\u001b[1;33m=\u001b[0m\u001b[0mcookies\u001b[0m\u001b[1;33m)\u001b[0m\u001b[1;33m\u001b[0m\u001b[1;33m\u001b[0m\u001b[0m\n\u001b[0m",
      "\u001b[1;32mC:\\Python38\\lib\\site-packages\\requests\\sessions.py\u001b[0m in \u001b[0;36mpost\u001b[1;34m(self, url, data, json, **kwargs)\u001b[0m\n\u001b[0;32m    576\u001b[0m         \"\"\"\n\u001b[0;32m    577\u001b[0m \u001b[1;33m\u001b[0m\u001b[0m\n\u001b[1;32m--> 578\u001b[1;33m         \u001b[1;32mreturn\u001b[0m \u001b[0mself\u001b[0m\u001b[1;33m.\u001b[0m\u001b[0mrequest\u001b[0m\u001b[1;33m(\u001b[0m\u001b[1;34m'POST'\u001b[0m\u001b[1;33m,\u001b[0m \u001b[0murl\u001b[0m\u001b[1;33m,\u001b[0m \u001b[0mdata\u001b[0m\u001b[1;33m=\u001b[0m\u001b[0mdata\u001b[0m\u001b[1;33m,\u001b[0m \u001b[0mjson\u001b[0m\u001b[1;33m=\u001b[0m\u001b[0mjson\u001b[0m\u001b[1;33m,\u001b[0m \u001b[1;33m**\u001b[0m\u001b[0mkwargs\u001b[0m\u001b[1;33m)\u001b[0m\u001b[1;33m\u001b[0m\u001b[1;33m\u001b[0m\u001b[0m\n\u001b[0m\u001b[0;32m    579\u001b[0m \u001b[1;33m\u001b[0m\u001b[0m\n\u001b[0;32m    580\u001b[0m     \u001b[1;32mdef\u001b[0m \u001b[0mput\u001b[0m\u001b[1;33m(\u001b[0m\u001b[0mself\u001b[0m\u001b[1;33m,\u001b[0m \u001b[0murl\u001b[0m\u001b[1;33m,\u001b[0m \u001b[0mdata\u001b[0m\u001b[1;33m=\u001b[0m\u001b[1;32mNone\u001b[0m\u001b[1;33m,\u001b[0m \u001b[1;33m**\u001b[0m\u001b[0mkwargs\u001b[0m\u001b[1;33m)\u001b[0m\u001b[1;33m:\u001b[0m\u001b[1;33m\u001b[0m\u001b[1;33m\u001b[0m\u001b[0m\n",
      "\u001b[1;32mC:\\Python38\\lib\\site-packages\\requests\\sessions.py\u001b[0m in \u001b[0;36mrequest\u001b[1;34m(self, method, url, params, data, headers, cookies, files, auth, timeout, allow_redirects, proxies, hooks, stream, verify, cert, json)\u001b[0m\n\u001b[0;32m    514\u001b[0m             \u001b[0mhooks\u001b[0m\u001b[1;33m=\u001b[0m\u001b[0mhooks\u001b[0m\u001b[1;33m,\u001b[0m\u001b[1;33m\u001b[0m\u001b[1;33m\u001b[0m\u001b[0m\n\u001b[0;32m    515\u001b[0m         )\n\u001b[1;32m--> 516\u001b[1;33m         \u001b[0mprep\u001b[0m \u001b[1;33m=\u001b[0m \u001b[0mself\u001b[0m\u001b[1;33m.\u001b[0m\u001b[0mprepare_request\u001b[0m\u001b[1;33m(\u001b[0m\u001b[0mreq\u001b[0m\u001b[1;33m)\u001b[0m\u001b[1;33m\u001b[0m\u001b[1;33m\u001b[0m\u001b[0m\n\u001b[0m\u001b[0;32m    517\u001b[0m \u001b[1;33m\u001b[0m\u001b[0m\n\u001b[0;32m    518\u001b[0m         \u001b[0mproxies\u001b[0m \u001b[1;33m=\u001b[0m \u001b[0mproxies\u001b[0m \u001b[1;32mor\u001b[0m \u001b[1;33m{\u001b[0m\u001b[1;33m}\u001b[0m\u001b[1;33m\u001b[0m\u001b[1;33m\u001b[0m\u001b[0m\n",
      "\u001b[1;32mC:\\Python38\\lib\\site-packages\\requests\\sessions.py\u001b[0m in \u001b[0;36mprepare_request\u001b[1;34m(self, request)\u001b[0m\n\u001b[0;32m    447\u001b[0m \u001b[1;33m\u001b[0m\u001b[0m\n\u001b[0;32m    448\u001b[0m         \u001b[0mp\u001b[0m \u001b[1;33m=\u001b[0m \u001b[0mPreparedRequest\u001b[0m\u001b[1;33m(\u001b[0m\u001b[1;33m)\u001b[0m\u001b[1;33m\u001b[0m\u001b[1;33m\u001b[0m\u001b[0m\n\u001b[1;32m--> 449\u001b[1;33m         p.prepare(\n\u001b[0m\u001b[0;32m    450\u001b[0m             \u001b[0mmethod\u001b[0m\u001b[1;33m=\u001b[0m\u001b[0mrequest\u001b[0m\u001b[1;33m.\u001b[0m\u001b[0mmethod\u001b[0m\u001b[1;33m.\u001b[0m\u001b[0mupper\u001b[0m\u001b[1;33m(\u001b[0m\u001b[1;33m)\u001b[0m\u001b[1;33m,\u001b[0m\u001b[1;33m\u001b[0m\u001b[1;33m\u001b[0m\u001b[0m\n\u001b[0;32m    451\u001b[0m             \u001b[0murl\u001b[0m\u001b[1;33m=\u001b[0m\u001b[0mrequest\u001b[0m\u001b[1;33m.\u001b[0m\u001b[0murl\u001b[0m\u001b[1;33m,\u001b[0m\u001b[1;33m\u001b[0m\u001b[1;33m\u001b[0m\u001b[0m\n",
      "\u001b[1;32mC:\\Python38\\lib\\site-packages\\requests\\models.py\u001b[0m in \u001b[0;36mprepare\u001b[1;34m(self, method, url, headers, files, data, params, auth, cookies, hooks, json)\u001b[0m\n\u001b[0;32m    315\u001b[0m         \u001b[0mself\u001b[0m\u001b[1;33m.\u001b[0m\u001b[0mprepare_headers\u001b[0m\u001b[1;33m(\u001b[0m\u001b[0mheaders\u001b[0m\u001b[1;33m)\u001b[0m\u001b[1;33m\u001b[0m\u001b[1;33m\u001b[0m\u001b[0m\n\u001b[0;32m    316\u001b[0m         \u001b[0mself\u001b[0m\u001b[1;33m.\u001b[0m\u001b[0mprepare_cookies\u001b[0m\u001b[1;33m(\u001b[0m\u001b[0mcookies\u001b[0m\u001b[1;33m)\u001b[0m\u001b[1;33m\u001b[0m\u001b[1;33m\u001b[0m\u001b[0m\n\u001b[1;32m--> 317\u001b[1;33m         \u001b[0mself\u001b[0m\u001b[1;33m.\u001b[0m\u001b[0mprepare_body\u001b[0m\u001b[1;33m(\u001b[0m\u001b[0mdata\u001b[0m\u001b[1;33m,\u001b[0m \u001b[0mfiles\u001b[0m\u001b[1;33m,\u001b[0m \u001b[0mjson\u001b[0m\u001b[1;33m)\u001b[0m\u001b[1;33m\u001b[0m\u001b[1;33m\u001b[0m\u001b[0m\n\u001b[0m\u001b[0;32m    318\u001b[0m         \u001b[0mself\u001b[0m\u001b[1;33m.\u001b[0m\u001b[0mprepare_auth\u001b[0m\u001b[1;33m(\u001b[0m\u001b[0mauth\u001b[0m\u001b[1;33m,\u001b[0m \u001b[0murl\u001b[0m\u001b[1;33m)\u001b[0m\u001b[1;33m\u001b[0m\u001b[1;33m\u001b[0m\u001b[0m\n\u001b[0;32m    319\u001b[0m \u001b[1;33m\u001b[0m\u001b[0m\n",
      "\u001b[1;32mC:\\Python38\\lib\\site-packages\\requests\\models.py\u001b[0m in \u001b[0;36mprepare_body\u001b[1;34m(self, data, files, json)\u001b[0m\n\u001b[0;32m    503\u001b[0m             \u001b[1;31m# Multi-part file uploads.\u001b[0m\u001b[1;33m\u001b[0m\u001b[1;33m\u001b[0m\u001b[1;33m\u001b[0m\u001b[0m\n\u001b[0;32m    504\u001b[0m             \u001b[1;32mif\u001b[0m \u001b[0mfiles\u001b[0m\u001b[1;33m:\u001b[0m\u001b[1;33m\u001b[0m\u001b[1;33m\u001b[0m\u001b[0m\n\u001b[1;32m--> 505\u001b[1;33m                 \u001b[1;33m(\u001b[0m\u001b[0mbody\u001b[0m\u001b[1;33m,\u001b[0m \u001b[0mcontent_type\u001b[0m\u001b[1;33m)\u001b[0m \u001b[1;33m=\u001b[0m \u001b[0mself\u001b[0m\u001b[1;33m.\u001b[0m\u001b[0m_encode_files\u001b[0m\u001b[1;33m(\u001b[0m\u001b[0mfiles\u001b[0m\u001b[1;33m,\u001b[0m \u001b[0mdata\u001b[0m\u001b[1;33m)\u001b[0m\u001b[1;33m\u001b[0m\u001b[1;33m\u001b[0m\u001b[0m\n\u001b[0m\u001b[0;32m    506\u001b[0m             \u001b[1;32melse\u001b[0m\u001b[1;33m:\u001b[0m\u001b[1;33m\u001b[0m\u001b[1;33m\u001b[0m\u001b[0m\n\u001b[0;32m    507\u001b[0m                 \u001b[1;32mif\u001b[0m \u001b[0mdata\u001b[0m\u001b[1;33m:\u001b[0m\u001b[1;33m\u001b[0m\u001b[1;33m\u001b[0m\u001b[0m\n",
      "\u001b[1;32mC:\\Python38\\lib\\site-packages\\requests\\models.py\u001b[0m in \u001b[0;36m_encode_files\u001b[1;34m(files, data)\u001b[0m\n\u001b[0;32m    120\u001b[0m             \u001b[1;32mraise\u001b[0m \u001b[0mValueError\u001b[0m\u001b[1;33m(\u001b[0m\u001b[1;34m\"Files must be provided.\"\u001b[0m\u001b[1;33m)\u001b[0m\u001b[1;33m\u001b[0m\u001b[1;33m\u001b[0m\u001b[0m\n\u001b[0;32m    121\u001b[0m         \u001b[1;32melif\u001b[0m \u001b[0misinstance\u001b[0m\u001b[1;33m(\u001b[0m\u001b[0mdata\u001b[0m\u001b[1;33m,\u001b[0m \u001b[0mbasestring\u001b[0m\u001b[1;33m)\u001b[0m\u001b[1;33m:\u001b[0m\u001b[1;33m\u001b[0m\u001b[1;33m\u001b[0m\u001b[0m\n\u001b[1;32m--> 122\u001b[1;33m             \u001b[1;32mraise\u001b[0m \u001b[0mValueError\u001b[0m\u001b[1;33m(\u001b[0m\u001b[1;34m\"Data must not be a string.\"\u001b[0m\u001b[1;33m)\u001b[0m\u001b[1;33m\u001b[0m\u001b[1;33m\u001b[0m\u001b[0m\n\u001b[0m\u001b[0;32m    123\u001b[0m \u001b[1;33m\u001b[0m\u001b[0m\n\u001b[0;32m    124\u001b[0m         \u001b[0mnew_fields\u001b[0m \u001b[1;33m=\u001b[0m \u001b[1;33m[\u001b[0m\u001b[1;33m]\u001b[0m\u001b[1;33m\u001b[0m\u001b[1;33m\u001b[0m\u001b[0m\n",
      "\u001b[1;31mValueError\u001b[0m: Data must not be a string."
     ]
    }
   ],
   "source": [
    "r = s.post(submit_url, fd, files={\"userfile\": files[\"SampleSubmission.docx\"]}, headers={\"accept\": \"application/json\"}, params=query, cookies=cookies)"
   ]
  },
  {
   "cell_type": "code",
   "execution_count": 17,
   "metadata": {},
   "outputs": [
    {
     "output_type": "execute_result",
     "data": {
      "text/plain": "'application/json'"
     },
     "metadata": {},
     "execution_count": 17
    }
   ],
   "source": [
    "r.headers[\"content-type\"]"
   ]
  },
  {
   "cell_type": "code",
   "execution_count": 42,
   "metadata": {},
   "outputs": [
    {
     "output_type": "execute_result",
     "data": {
      "text/plain": "{'uuid': None, 'errors': ['No file uploaded!'], 'error_codes': ['1008']}"
     },
     "metadata": {},
     "execution_count": 42
    }
   ],
   "source": [
    "r.json()"
   ]
  },
  {
   "cell_type": "code",
   "execution_count": 12,
   "metadata": {},
   "outputs": [],
   "source": [
    "rr = s.post(\"https://www.turnitin.com/panda/get_submission_metadata.asp\", params={\n",
    "    \"session-id\": cookies[\"session-id\"],\n",
    "    \"lang\": \"en_us\",\n",
    "    \"skip_ready_check\": 0,\n",
    "    # \"uuid\": NotImplemented\n",
    "})"
   ]
  },
  {
   "cell_type": "code",
   "execution_count": 13,
   "metadata": {},
   "outputs": [],
   "source": [
    "confirmation_url = \"https://www.turnitin.com/submit_confirm.asp?\"\n",
    "c_query = {\n",
    "    \"lang\": \"en_us\",\n",
    "    \"session-id\": cookies[\"session-id\"],\n",
    "    \"data-state\": \"confirm\"\n",
    "}\n",
    "r = s.post(confirmation_url, params=query, cookies=cookies)"
   ]
  }
 ],
 "metadata": {
  "language_info": {
   "codemirror_mode": {
    "name": "ipython",
    "version": 3
   },
   "file_extension": ".py",
   "mimetype": "text/x-python",
   "name": "python",
   "nbconvert_exporter": "python",
   "pygments_lexer": "ipython3",
   "version": "3.8.3-final"
  },
  "orig_nbformat": 2,
  "kernelspec": {
   "name": "python38364bitdd70a8305dbb4290b4ca51ca8d9e813d",
   "display_name": "Python 3.8.3 64-bit"
  }
 },
 "nbformat": 4,
 "nbformat_minor": 2
}