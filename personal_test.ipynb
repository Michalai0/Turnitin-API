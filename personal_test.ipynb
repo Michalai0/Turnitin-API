{
 "cells": [
  {
   "cell_type": "code",
   "execution_count": 1,
   "metadata": {},
   "outputs": [],
   "source": [
    "import requests\n",
    "from IPython.core.display import display, HTML\n",
    "from bs4 import BeautifulSoup\n",
    "from personal import *\n",
    "\n",
    "url = \"http://127.0.0.1:5000\"\n",
    "# url = \"https://turnitin-api.herokuapp.com\"\n",
    "\n",
    "\n",
    "s = requests.Session()"
   ]
  },
  {
   "cell_type": "code",
   "execution_count": 3,
   "metadata": {
    "tags": []
   },
   "outputs": [
    {
     "output_type": "stream",
     "name": "stdout",
     "text": "{'title': 'World Literature: Period 5', 'url': 'https://www.turnitin.com/s_class_portfolio.asp?r=96.4763860571541&svr=37&lang=en_us&aid=5245&cid=22703844'}\n"
    },
    {
     "output_type": "execute_result",
     "data": {
      "text/plain": "{'aid': '93021908',\n 'dates': {'due': '06/30/2020 23:59:00',\n  'post': '06/12/2020 00:00:00',\n  'start': '06/04/2020 15:35:00'},\n 'file': 'void',\n 'info': 'No additional instructions have been entered for this assignment. Late paper submissions are allowed for this assignment. Resubmissions are not allowed for this assignment. Similarity reports are available immediately after submission.',\n 'oid': 'void',\n 'submission': 't_submit.asp?r=39.8521947242529&svr=51&lang=en_us&aid=93021908',\n 'title': \"Revision 2: Kento's Test Assignment (for Kento only)\"}"
     },
     "metadata": {},
     "execution_count": 3
    }
   ],
   "source": [
    "login_result = s.post(url + \"/login\", json={\n",
    "    \"email\": USERNAME,\n",
    "    \"password\": PASSWORD\n",
    "})\n",
    "auth = login_result.json()\n",
    "\n",
    "classes_result = s.post(url + \"/classes\", json=auth)\n",
    "classes = classes_result.json()\n",
    "for c in classes:\n",
    "    if \"World Lit\" in c[\"title\"]:\n",
    "        world_lit = c\n",
    "print(world_lit)\n",
    "\n",
    "first_class_data = dict(auth, url=world_lit[\"url\"])\n",
    "assignments_result = s.post(url + \"/assignments\", json=first_class_data)\n",
    "assignments = assignments_result.json()\n",
    "assignments[25]"
   ]
  },
  {
   "cell_type": "code",
   "execution_count": 16,
   "metadata": {},
   "outputs": [
    {
     "output_type": "execute_result",
     "data": {
      "text/plain": "29"
     },
     "metadata": {},
     "execution_count": 16
    }
   ],
   "source": [
    "len(assignments)"
   ]
  },
  {
   "cell_type": "code",
   "execution_count": 5,
   "metadata": {},
   "outputs": [],
   "source": [
    "ass = assignments[25]\n",
    "aid = ass[\"aid\"]\n",
    "cookies = auth[\"auth\"]\n",
    "author_first = \"Kento\"\n",
    "author_last = \"Nishi\"\n",
    "submission_title = \"Custom turnitin API\""
   ]
  },
  {
   "cell_type": "code",
   "execution_count": 7,
   "metadata": {},
   "outputs": [],
   "source": [
    "referer_url = \"https://www.turnitin.com/\" + ass[\"submission\"]\n",
    "submit_url = \"https://www.turnitin.com/t_submit.asp\"\n",
    "query = {\"aid\": aid, \"session-id\": cookies[\"session-id\"], \"lang\": \"en_us\"}\n",
    "form_data = dict(\n",
    "    async_request=1,\n",
    "    author_first=author_first, \n",
    "    author_last=author_last,\n",
    "    title=submission_title,\n",
    "    filename=\"SampleSubmission.docx\",\n",
    "    referer=referer_url,\n",
    "    # userfile='',\n",
    "    db_doc='',\n",
    "    dropbox_filename='',\n",
    "    google_doc='',\n",
    "    google_auth_uri='',\n",
    "    token='',\n",
    "    submit_button=''\n",
    ")\n",
    "\n",
    "fi = {\"userfile\": (\"Document.docx\",open(\"Document.docx\", 'rb'), \"application/vnd.openxmlformats-officedocument.wordprocessingml.document\"),\n",
    "\"Content-Disposition\": \"form-data; name=\\\"file\\\"; filename=\\\"SampleSubmission.docx\\\"\",\n",
    "\"Content-Type\": \"application/vnd.openxmlformats-officedocument.wordprocessingml.document\"}\n"
   ]
  },
  {
   "cell_type": "code",
   "execution_count": 8,
   "metadata": {},
   "outputs": [
    {
     "output_type": "execute_result",
     "data": {
      "text/plain": "[{'async_request': 1},\n {'author_first': 'Kento'},\n {'author_last': 'Nishi'},\n {'title': 'Custom turnitin API'},\n {'filename': 'SampleSubmission.docx'},\n {'referer': 'https://www.turnitin.com/t_submit.asp?r=39.8521947242529&svr=51&lang=en_us&aid=93021908'},\n {'db_doc': ''},\n {'dropbox_filename': ''},\n {'google_doc': ''},\n {'google_auth_uri': ''},\n {'token': ''},\n {'submit_button': ''}]"
     },
     "metadata": {},
     "execution_count": 8
    }
   ],
   "source": [
    "[{i: form_data[i]} for i in form_data if i != \"userfile\"]"
   ]
  },
  {
   "cell_type": "code",
   "execution_count": 9,
   "metadata": {},
   "outputs": [],
   "source": [
    "r = s.post(submit_url, data=form_data, files=fi, headers={\"accept\": \"application/json\"}, params=query, cookies=cookies)"
   ]
  },
  {
   "cell_type": "code",
   "execution_count": 10,
   "metadata": {},
   "outputs": [
    {
     "output_type": "execute_result",
     "data": {
      "text/plain": "'application/json'"
     },
     "metadata": {},
     "execution_count": 10
    }
   ],
   "source": [
    "r.headers[\"content-type\"]"
   ]
  },
  {
   "cell_type": "code",
   "execution_count": 7,
   "metadata": {},
   "outputs": [
    {
     "output_type": "execute_result",
     "data": {
      "text/plain": "{'error_codes': None,\n 'errors': None,\n 'uuid': 'F1D7FA8E-B98E-11EA-B246-ACF57A601489'}"
     },
     "metadata": {},
     "execution_count": 7
    }
   ],
   "source": [
    "r.json()"
   ]
  },
  {
   "cell_type": "code",
   "execution_count": 32,
   "metadata": {},
   "outputs": [
    {
     "output_type": "execute_result",
     "data": {
      "text/plain": "{'word_count': 180,\n 'status': 1,\n 'page_count': 5,\n 'image_url_stub': '/panda/get_page_image.asp?m=6ddcec3cd528448aa1e655c43a31e9a9&session-id=0c6322808aac485dad23bd9083604d6c&submission_id=oid:1:1794083027&page=',\n 'char_count': 783,\n 'file_size': '10.46M',\n 'uuid': '5653DE6E-B990-11EA-879B-FA479F8646E8',\n 'download_url': None,\n 'file_name': 'SampleSubmission.docx'}"
     },
     "metadata": {},
     "execution_count": 32
    }
   ],
   "source": [
    "rr = s.post(\"https://www.turnitin.com/panda/get_submission_metadata.asp\", params={\n",
    "    \"session-id\": cookies[\"session-id\"],\n",
    "    \"lang\": \"en_us\",\n",
    "    \"skip_ready_check\": 0,\n",
    "    \"uuid\": r.json()[\"uuid\"]\n",
    "})\n",
    "rr.json()"
   ]
  },
  {
   "cell_type": "code",
   "execution_count": 39,
   "metadata": {},
   "outputs": [
    {
     "output_type": "execute_result",
     "data": {
      "text/plain": "(b'null', 'text/html; charset=UTF-8')"
     },
     "metadata": {},
     "execution_count": 39
    }
   ],
   "source": [
    "confirmation_url = \"https://www.turnitin.com/submit_confirm.asp\"\n",
    "c_query = {\n",
    "    \"lang\": \"en_us\",\n",
    "    \"session-id\": cookies[\"session-id\"],\n",
    "    \"data-state\": \"confirm\",\n",
    "    \"uuid\": rr.json()[\"uuid\"]\n",
    "}\n",
    "rrr = s.post(confirmation_url, headers={\n",
    "    \"accept\": \"application/json\",\n",
    "    \"origin\": \"https://www.turnitin.com\",\n",
    "    \"referer\": referer_url    \n",
    "}, params=query, cookies=cookies)\n",
    "rrr.content, rrr.headers[\"content-type\"]"
   ]
  },
  {
   "cell_type": "code",
   "execution_count": 41,
   "metadata": {},
   "outputs": [],
   "source": [
    "rrr = s.post(f\"{confirmation_url}?lang=en_us&sessionid={c_query['session-id']}&data-state=confirm&uuid={c_query['uuid']}\")"
   ]
  },
  {
   "cell_type": "code",
   "execution_count": 43,
   "metadata": {},
   "outputs": [
    {
     "output_type": "execute_result",
     "data": {
      "text/plain": "'{\"oid\":\"1350956643\",\"submission_date\":\"2020年06月28日 03:46PM (UTC-0700)\"}'"
     },
     "metadata": {},
     "execution_count": 43
    }
   ],
   "source": [
    "rrr.text"
   ]
  },
  {
   "cell_type": "code",
   "execution_count": 38,
   "metadata": {},
   "outputs": [
    {
     "output_type": "execute_result",
     "data": {
      "text/plain": "{'lang': 'en_us',\n 'session-id': '0c6322808aac485dad23bd9083604d6c',\n 'data-state': 'confirm',\n 'uuid': '5653DE6E-B990-11EA-879B-FA479F8646E8'}"
     },
     "metadata": {},
     "execution_count": 38
    }
   ],
   "source": [
    "c_query"
   ]
  }
 ],
 "metadata": {
  "language_info": {
   "codemirror_mode": {
    "name": "ipython",
    "version": 3
   },
   "file_extension": ".py",
   "mimetype": "text/x-python",
   "name": "python",
   "nbconvert_exporter": "python",
   "pygments_lexer": "ipython3",
   "version": "3.8.3-final"
  },
  "orig_nbformat": 2,
  "kernelspec": {
   "name": "python38364bit0300d94ecc164d5191198d49cd2ed837",
   "display_name": "Python 3.8.3 64-bit"
  }
 },
 "nbformat": 4,
 "nbformat_minor": 2
}