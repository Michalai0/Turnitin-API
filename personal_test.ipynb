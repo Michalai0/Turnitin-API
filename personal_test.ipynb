{
 "cells": [
  {
   "cell_type": "code",
   "execution_count": 50,
   "metadata": {},
   "outputs": [],
   "source": [
    "import requests\n",
    "from IPython.core.display import display, HTML\n",
    "from bs4 import BeautifulSoup\n",
    "from personal import *\n",
    "\n",
    "url = \"http://127.0.0.1:5000\"\n",
    "# url = \"https://turnitin-api.herokuapp.com\"\n",
    "\n",
    "\n",
    "s = requests.Session()"
   ]
  },
  {
   "cell_type": "code",
   "execution_count": 51,
   "metadata": {
    "tags": []
   },
   "outputs": [
    {
     "output_type": "stream",
     "name": "stdout",
     "text": "{'title': 'World Literature: Period 5', 'url': 'https://www.turnitin.com/s_class_portfolio.asp?r=84.9927477776554&svr=47&lang=en_us&aid=5245&cid=22703844'}\n"
    },
    {
     "output_type": "execute_result",
     "data": {
      "text/plain": "{'aid': '93021867',\n 'dates': {'due': '06/30/2020 23:59:00',\n  'post': '06/12/2020 00:00:00',\n  'start': '06/04/2020 15:33:00'},\n 'file': 'void',\n 'info': 'No additional instructions have been entered for this assignment. Late paper submissions are allowed for this assignment. Resubmissions are not allowed for this assignment. Similarity reports are available immediately after submission.',\n 'oid': 'void',\n 'submission': 't_submit.asp?r=23.4686424793232&svr=21&lang=en_us&aid=93021867',\n 'title': \"Kento's Test Assignment (for Kento only)\"}"
     },
     "metadata": {},
     "execution_count": 51
    }
   ],
   "source": [
    "login_result = s.post(url + \"/login\", json={\n",
    "    \"email\": USERNAME,\n",
    "    \"password\": PASSWORD\n",
    "})\n",
    "auth = login_result.json()\n",
    "\n",
    "classes_result = s.post(url + \"/classes\", json=auth)\n",
    "classes = classes_result.json()\n",
    "for c in classes:\n",
    "    if \"World Lit\" in c[\"title\"]:\n",
    "        world_lit = c\n",
    "print(world_lit)\n",
    "\n",
    "first_class_data = dict(auth, url=world_lit[\"url\"])\n",
    "assignments_result = s.post(url + \"/assignments\", json=first_class_data)\n",
    "assignments = assignments_result.json()\n",
    "assignments[-6]"
   ]
  },
  {
   "cell_type": "code",
   "execution_count": 16,
   "metadata": {},
   "outputs": [
    {
     "output_type": "execute_result",
     "data": {
      "text/plain": "29"
     },
     "metadata": {},
     "execution_count": 16
    }
   ],
   "source": [
    "len(assignments)"
   ]
  },
  {
   "cell_type": "code",
   "execution_count": 21,
   "metadata": {},
   "outputs": [
    {
     "output_type": "execute_result",
     "data": {
      "text/plain": "{'aid': '93021867',\n 'dates': {'due': '06/30/2020 23:59:00',\n  'post': '06/12/2020 00:00:00',\n  'start': '06/04/2020 15:33:00'},\n 'file': 'void',\n 'info': 'No additional instructions have been entered for this assignment. Late paper submissions are allowed for this assignment. Resubmissions are not allowed for this assignment. Similarity reports are available immediately after submission.',\n 'oid': 'void',\n 'submission': 't_submit.asp?r=3.18340456629862&svr=41&lang=en_us&aid=93021867',\n 'title': \"Kento's Test Assignment (for Kento only)\"}"
     },
     "metadata": {},
     "execution_count": 21
    }
   ],
   "source": [
    "assignments[-6]"
   ]
  },
  {
   "cell_type": "code",
   "execution_count": 52,
   "metadata": {},
   "outputs": [],
   "source": [
    "ass = assignments[-6]\n",
    "aid = ass[\"aid\"]\n",
    "cookies = auth[\"auth\"]\n",
    "author_first = \"Kento\"\n",
    "author_last = \"Nishi\"\n",
    "with open(\"../SampleSubmission.docx\", 'rb') as fin:\n",
    "    filebytes = fin.read()\n",
    "files = {\"SampleSubmission.docx\": open(\"../SampleSubmission.docx\", 'rb')}\n",
    "submission_title = \"Custom turnitin API\""
   ]
  },
  {
   "cell_type": "code",
   "execution_count": 53,
   "metadata": {},
   "outputs": [],
   "source": [
    "referer_url = \"https://www.turnitin.com/\" + ass[\"submission\"]\n",
    "submit_url = \"https://www.turnitin.com/t_submit.asp\"\n",
    "query = {\"aid\": aid, \"session-id\": cookies[\"session-id\"], \"lang\": \"en_us\"}\n",
    "form_data = dict(\n",
    "    async_request=1,\n",
    "    author_first=author_first, \n",
    "    author_last=author_last,\n",
    "    title=submission_title,\n",
    "    filename=\"SampleSubmission.docx\",\n",
    "    referer=referer_url,\n",
    "    # userfile='',\n",
    "    db_doc='',\n",
    "    dropbox_filename='',\n",
    "    google_doc='',\n",
    "    google_auth_uri='',\n",
    "    token='',\n",
    "    submit_button=''\n",
    ")\n",
    "\n",
    "fi = {\"userfile\": (\"SampleSubmission.docx\", open(\"../SampleSubmission.docx\", 'rb'), \"application/vnd.openxmlformats-officedocument.wordprocessingml.document\"),\n",
    "\"Content-Disposition\": \"form-data; name=\\\"file\\\"; filename=\\\"SampleSubmission.docx\\\"\",\n",
    "\"Content-Type\": \"application/vnd.openxmlformats-officedocument.wordprocessingml.document\"}\n",
    "\n",
    "fd = \"\"\"\n",
    "------WebKitFormBoundaryTCvoHjgAffYzBXbI\n",
    "Content-Disposition: form-data; name=\"async_request\"\n",
    "\n",
    "0\n",
    "------WebKitFormBoundaryTCvoHjgAffYzBXbI\n",
    "Content-Disposition: form-data; name=\"author_first\"\n",
    "\n",
    "Kento\n",
    "------WebKitFormBoundaryTCvoHjgAffYzBXbI\n",
    "Content-Disposition: form-data; name=\"author_last\"\n",
    "\n",
    "Nishi\n",
    "------WebKitFormBoundaryTCvoHjgAffYzBXbI\n",
    "Content-Disposition: form-data; name=\"title\"\n",
    "\n",
    "TEST DOCUMENT 1\n",
    "------WebKitFormBoundaryTCvoHjgAffYzBXbI\n",
    "Content-Disposition: form-data; name=\"userfile\"; filename=\"SampleSubmission.docx\"\n",
    "Content-Type: application/vnd.openxmlformats-officedocument.wordprocessingml.document\n",
    "\n",
    "\n",
    "------WebKitFormBoundaryTCvoHjgAffYzBXbI\n",
    "Content-Disposition: form-data; name=\"db_doc\"\n",
    "\n",
    "\n",
    "------WebKitFormBoundaryTCvoHjgAffYzBXbI\n",
    "Content-Disposition: form-data; name=\"dropbox_filename\"\n",
    "\n",
    "\n",
    "------WebKitFormBoundaryTCvoHjgAffYzBXbI\n",
    "Content-Disposition: form-data; name=\"google_doc\"\n",
    "\n",
    "\n",
    "------WebKitFormBoundaryTCvoHjgAffYzBXbI\n",
    "Content-Disposition: form-data; name=\"google_auth_uri\"\n",
    "\n",
    "\n",
    "------WebKitFormBoundaryTCvoHjgAffYzBXbI\n",
    "Content-Disposition: form-data; name=\"token\"\n",
    "\n",
    "\n",
    "------WebKitFormBoundaryTCvoHjgAffYzBXbI\n",
    "Content-Disposition: form-data; name=\"submit_button\"\n",
    "\n",
    "\n",
    "------WebKitFormBoundaryTCvoHjgAffYzBXbI--\n",
    "\"\"\"\n",
    "\n",
    "\n",
    "alternate_fd = [\n",
    "    {\"name\": k, \"value\": v}\n",
    "    for k, v in form_data.items()\n",
    "]"
   ]
  },
  {
   "cell_type": "code",
   "execution_count": 24,
   "metadata": {},
   "outputs": [
    {
     "output_type": "execute_result",
     "data": {
      "text/plain": "[{'async_request': 1},\n {'author_first': 'Kento'},\n {'author_last': 'Nishi'},\n {'title': 'Custom turnitin API'},\n {'filename': 'SampleSubmission.docx'},\n {'referer': 'https://www.turnitin.com/t_submit.asp?r=3.18340456629862&svr=41&lang=en_us&aid=93021867'},\n {'db_doc': ''},\n {'dropbox_filename': ''},\n {'google_doc': ''},\n {'google_auth_uri': ''},\n {'token': ''},\n {'submit_button': ''}]"
     },
     "metadata": {},
     "execution_count": 24
    }
   ],
   "source": [
    "[{i: form_data[i]} for i in form_data if i != \"userfile\"]"
   ]
  },
  {
   "cell_type": "code",
   "execution_count": 54,
   "metadata": {},
   "outputs": [],
   "source": [
    "r = s.post(submit_url, data=form_data, files=fi, headers={\"accept\": \"application/json\"}, params=query, cookies=cookies)"
   ]
  },
  {
   "cell_type": "code",
   "execution_count": 17,
   "metadata": {},
   "outputs": [
    {
     "output_type": "execute_result",
     "data": {
      "text/plain": "'application/json'"
     },
     "metadata": {},
     "execution_count": 17
    }
   ],
   "source": [
    "r.headers[\"content-type\"]"
   ]
  },
  {
   "cell_type": "code",
   "execution_count": 55,
   "metadata": {},
   "outputs": [
    {
     "output_type": "execute_result",
     "data": {
      "text/plain": "{'uuid': 'DC7F442C-B98D-11EA-810A-DA5E295C64D1',\n 'errors': None,\n 'error_codes': None}"
     },
     "metadata": {},
     "execution_count": 55
    }
   ],
   "source": [
    "r.json()"
   ]
  },
  {
   "cell_type": "code",
   "execution_count": 12,
   "metadata": {},
   "outputs": [],
   "source": [
    "rr = s.post(\"https://www.turnitin.com/panda/get_submission_metadata.asp\", params={\n",
    "    \"session-id\": cookies[\"session-id\"],\n",
    "    \"lang\": \"en_us\",\n",
    "    \"skip_ready_check\": 0,\n",
    "    # \"uuid\": NotImplemented\n",
    "})"
   ]
  },
  {
   "cell_type": "code",
   "execution_count": 13,
   "metadata": {},
   "outputs": [],
   "source": [
    "confirmation_url = \"https://www.turnitin.com/submit_confirm.asp?\"\n",
    "c_query = {\n",
    "    \"lang\": \"en_us\",\n",
    "    \"session-id\": cookies[\"session-id\"],\n",
    "    \"data-state\": \"confirm\"\n",
    "}\n",
    "r = s.post(confirmation_url, params=query, cookies=cookies)"
   ]
  }
 ],
 "metadata": {
  "language_info": {
   "codemirror_mode": {
    "name": "ipython",
    "version": 3
   },
   "file_extension": ".py",
   "mimetype": "text/x-python",
   "name": "python",
   "nbconvert_exporter": "python",
   "pygments_lexer": "ipython3",
   "version": "3.8.3-final"
  },
  "orig_nbformat": 2,
  "kernelspec": {
   "name": "python38364bitdd70a8305dbb4290b4ca51ca8d9e813d",
   "display_name": "Python 3.8.3 64-bit"
  }
 },
 "nbformat": 4,
 "nbformat_minor": 2
}